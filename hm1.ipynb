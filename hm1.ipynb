{
 "cells": [
  {
   "cell_type": "code",
   "execution_count": 3,
   "source": [
    "class Test:\r\n",
    "    @staticmethod\r\n",
    "    def assert_equals(a, b, *args, **kwargs):\r\n",
    "        assert a == b\r\n",
    "        print('Passed')"
   ],
   "outputs": [],
   "metadata": {}
  },
  {
   "cell_type": "markdown",
   "source": [
    "Problem https://edabit.com/challenge/3DAkZHv2LZjgqWbvW (2 points)\r\n",
    "\t"
   ],
   "metadata": {}
  },
  {
   "cell_type": "code",
   "execution_count": 11,
   "source": [
    "def is_adjacent(matrix, node1, node2):\r\n",
    "\tif matrix [node1] [node2] == 1:\r\n",
    "\t\treturn True\r\n",
    "\telse:\r\n",
    "\t\treturn False\r\n",
    "\r\n",
    "\t\t"
   ],
   "outputs": [],
   "metadata": {}
  },
  {
   "cell_type": "code",
   "execution_count": null,
   "source": [
    "matrix = [[0,1,0,0],[1,0,1,1],[0,1,0,1],[0,1,1,0]]\r\n",
    "Test.assert_equals(is_adjacent(matrix, 0, 1), True)\r\n",
    "Test.assert_equals(is_adjacent(matrix, 0, 2), False)\r\n",
    "Test.assert_equals(is_adjacent(matrix, 2, 1), True)\r\n",
    "\r\n",
    "matrix = [[0,1,0,1,1], [1,0,1,0,0],[0,1,0,1,0],[1,0,1,0,1],[1,0,0,1,0]]\r\n",
    "Test.assert_equals(is_adjacent(matrix, 0, 3), True)\r\n",
    "Test.assert_equals(is_adjacent(matrix, 1, 4), False)\r\n",
    "Test.assert_equals(is_adjacent(matrix, 3, 2), True)\r\n"
   ],
   "outputs": [],
   "metadata": {}
  },
  {
   "cell_type": "markdown",
   "source": [
    "Problem https://edabit.com/challenge/iP4ixkQffELyHvHi5 (1 point)"
   ],
   "metadata": {}
  },
  {
   "cell_type": "code",
   "execution_count": 13,
   "source": [
    "import math\r\n",
    "def weight(r, h):\r\n",
    "\ta= (math.pi * (r**2) *h)/1000\r\n",
    "\treturn round(a,2)"
   ],
   "outputs": [],
   "metadata": {}
  },
  {
   "cell_type": "code",
   "execution_count": 14,
   "source": [
    "\r\n",
    "Test.assert_equals(weight(4, 10), 0.5)\r\n",
    "Test.assert_equals(weight(30, 60), 169.65)\r\n",
    "Test.assert_equals(weight(15, 10), 7.07)\r\n",
    "Test.assert_equals(weight(20, 40), 50.27)\r\n",
    "Test.assert_equals(weight(100, 30), 942.48)\r\n",
    "Test.assert_equals(weight(200, 300), 37699.11)\r\n",
    "Test.assert_equals(weight(15, 23), 16.26)\r\n",
    "Test.assert_equals(weight(22, 44), 66.9)"
   ],
   "outputs": [
    {
     "output_type": "stream",
     "name": "stdout",
     "text": [
      "Passed\n",
      "Passed\n",
      "Passed\n",
      "Passed\n",
      "Passed\n",
      "Passed\n",
      "Passed\n",
      "Passed\n",
      "Passed\n",
      "Passed\n",
      "Passed\n",
      "Passed\n",
      "Passed\n",
      "Passed\n"
     ]
    }
   ],
   "metadata": {}
  },
  {
   "cell_type": "markdown",
   "source": [
    "Problem https://edabit.com/challenge/8pDH2SRutPoaQghgc (1 point)"
   ],
   "metadata": {}
  },
  {
   "cell_type": "code",
   "execution_count": 15,
   "source": [
    "def sjs(word):\r\n",
    "  s= \"Luke, I am your \" + word\r\n",
    "  return s\r\n",
    "def relation_to_luke(name):\r\n",
    "  if name == \"Darth Vader\":\r\n",
    "    return \"Luke, I am your father.\"\r\n",
    "  if name == \"Leia\":\r\n",
    "    return sjs(\"sister.\")\r\n",
    "  if name == \"Han\":\r\n",
    "    return sjs(\"brother in law.\")\r\n",
    "  if name == \"R2D2\":\r\n",
    "    return sjs(\"droid.\")"
   ],
   "outputs": [],
   "metadata": {}
  },
  {
   "cell_type": "code",
   "execution_count": 16,
   "source": [
    "Test.assert_equals(relation_to_luke(\"Darth Vader\"), \"Luke, I am your father.\")\r\n",
    "Test.assert_equals(relation_to_luke(\"Leia\"), \"Luke, I am your sister.\")\r\n",
    "Test.assert_equals(relation_to_luke(\"Han\"), \"Luke, I am your brother in law.\")\r\n",
    "Test.assert_equals(relation_to_luke(\"R2D2\"), \"Luke, I am your droid.\")"
   ],
   "outputs": [
    {
     "output_type": "stream",
     "name": "stdout",
     "text": [
      "Passed\n",
      "Passed\n",
      "Passed\n",
      "Passed\n"
     ]
    }
   ],
   "metadata": {}
  },
  {
   "cell_type": "markdown",
   "source": [
    "Problem https://edabit.com/challenge/gt9LLufDCMHKMioh2 (1 point)"
   ],
   "metadata": {}
  },
  {
   "cell_type": "code",
   "execution_count": 17,
   "source": [
    "def stutter(word):\r\n",
    "\tword2= word[0:2]+ \"... \" + word[0:2]+ \"... \" + word + \"?\"\r\n",
    "\treturn word2"
   ],
   "outputs": [],
   "metadata": {}
  },
  {
   "cell_type": "code",
   "execution_count": 18,
   "source": [
    "actual_param, expected_param = [\r\n",
    "\t\"increasing\", \"adventures\", \"enticing\", \"unacceptable\", \"accountable\", \"incredible\", \"exquisite\",\r\n",
    "\t\"am\", \"enduring\", \"outstanding\", \"astonishing\", \"astounding\", \"impressive\", \"revolutionize\",\r\n",
    "\t\"recurring\", \"recollection\", \"so\", \"gorgeous\", \"captivating\"\r\n",
    "], [\r\n",
    "\t\"in... in... increasing?\", \"ad... ad... adventures?\", \"en... en... enticing?\", \"un... un... unacceptable?\",\r\n",
    "    \"ac... ac... accountable?\", \"in... in... incredible?\", \"ex... ex... exquisite?\", \"am... am... am?\",\r\n",
    "    \"en... en... enduring?\", \"ou... ou... outstanding?\", \"as... as... astonishing?\", \"as... as... astounding?\",\r\n",
    "    \"im... im... impressive?\", \"re... re... revolutionize?\", \"re... re... recurring?\", \"re... re... recollection?\",\r\n",
    "    \"so... so... so?\", \"go... go... gorgeous?\", \"ca... ca... captivating?\",\r\n",
    "]\r\n",
    "for i, w in enumerate(actual_param):\r\n",
    "\tTest.assert_equals(stutter(w), expected_param[i])"
   ],
   "outputs": [
    {
     "output_type": "stream",
     "name": "stdout",
     "text": [
      "Passed\n",
      "Passed\n",
      "Passed\n",
      "Passed\n",
      "Passed\n",
      "Passed\n",
      "Passed\n",
      "Passed\n",
      "Passed\n",
      "Passed\n",
      "Passed\n",
      "Passed\n",
      "Passed\n",
      "Passed\n",
      "Passed\n",
      "Passed\n",
      "Passed\n",
      "Passed\n",
      "Passed\n"
     ]
    }
   ],
   "metadata": {}
  },
  {
   "cell_type": "markdown",
   "source": [
    "Problem https://edabit.com/challenge/HYjQKDXFfeppcWmLX (1 point)"
   ],
   "metadata": {}
  },
  {
   "cell_type": "code",
   "execution_count": 19,
   "source": [
    "def is_curzon(num):\r\n",
    "\ta=2 ** num + 1 \r\n",
    "\tb= 2 * num + 1 \r\n",
    "\tif a%b==0:\r\n",
    "\t\treturn True\r\n",
    "\telse:\r\n",
    "\t\treturn False"
   ],
   "outputs": [],
   "metadata": {}
  },
  {
   "cell_type": "code",
   "execution_count": 20,
   "source": [
    "Test.assert_equals(is_curzon(5), True)\r\n",
    "Test.assert_equals(is_curzon(10), False)\r\n",
    "Test.assert_equals(is_curzon(14), True)\r\n",
    "Test.assert_equals(is_curzon(86), True)\r\n",
    "Test.assert_equals(is_curzon(90), True)\r\n",
    "Test.assert_equals(is_curzon(115), False)\r\n",
    "Test.assert_equals(is_curzon(120), False)\r\n",
    "Test.assert_equals(is_curzon(194), True)\r\n",
    "Test.assert_equals(is_curzon(293), True)"
   ],
   "outputs": [
    {
     "output_type": "stream",
     "name": "stdout",
     "text": [
      "Passed\n",
      "Passed\n",
      "Passed\n",
      "Passed\n",
      "Passed\n",
      "Passed\n",
      "Passed\n",
      "Passed\n",
      "Passed\n"
     ]
    }
   ],
   "metadata": {}
  },
  {
   "cell_type": "markdown",
   "source": [
    "Problem https://edabit.com/challenge/pfn6QRn6eiTHEPpSs (2 points)"
   ],
   "metadata": {}
  },
  {
   "cell_type": "code",
   "execution_count": 21,
   "source": [
    "str, int = int, str\r\n",
    "def int_to_str(num):\r\n",
    "  return num.__str__() \r\n",
    "\r\n",
    "def str_to_int(num):\r\n",
    "  return int(num)\r\n"
   ],
   "outputs": [],
   "metadata": {}
  },
  {
   "cell_type": "code",
   "execution_count": 22,
   "source": [
    "str, int = int, str\r\n",
    "\r\n",
    "if str(4) == '4' and int('4') == 4:\r\n",
    "\tprint('**EXTRA POINTS**')\r\n",
    "\tprint('You have successfully de-drunken Python')\r\n",
    "\r\n",
    "Test.assert_equals(int_to_str(4), '4')\r\n",
    "Test.assert_equals(int_to_str(65), '65')\r\n",
    "Test.assert_equals(int_to_str(29348), '29348')\r\n",
    "Test.assert_equals(int_to_str(49583908545), '49583908545')\r\n",
    "\r\n",
    "Test.assert_equals(str_to_int('4'), 4)\r\n",
    "Test.assert_equals(str_to_int('65'), 65)\r\n",
    "Test.assert_equals(str_to_int('29348'), 29348)\r\n",
    "Test.assert_equals(str_to_int('49583908545'), 49583908545)"
   ],
   "outputs": [
    {
     "output_type": "stream",
     "name": "stdout",
     "text": [
      "**EXTRA POINTS**\n",
      "You have successfully de-drunken Python\n",
      "Passed\n",
      "Passed\n",
      "Passed\n",
      "Passed\n",
      "Passed\n",
      "Passed\n",
      "Passed\n",
      "Passed\n"
     ]
    }
   ],
   "metadata": {}
  },
  {
   "cell_type": "markdown",
   "source": [
    "Problem https://edabit.com/challenge/NNhkGocuPMcryW7GP (2 points)"
   ],
   "metadata": {}
  },
  {
   "cell_type": "code",
   "execution_count": 23,
   "source": [
    "def square_areas_difference(r):\r\n",
    "\treturn 2*r**2"
   ],
   "outputs": [],
   "metadata": {}
  },
  {
   "cell_type": "code",
   "execution_count": 24,
   "source": [
    "Test.assert_equals(square_areas_difference(5), 50)\r\n",
    "Test.assert_equals(square_areas_difference(6), 72)\r\n",
    "Test.assert_equals(square_areas_difference(7), 98)\r\n",
    "Test.assert_equals(square_areas_difference(17), 578)"
   ],
   "outputs": [
    {
     "output_type": "stream",
     "name": "stdout",
     "text": [
      "Passed\n",
      "Passed\n",
      "Passed\n",
      "Passed\n"
     ]
    }
   ],
   "metadata": {}
  },
  {
   "cell_type": "markdown",
   "source": [
    "Problem https://edabit.com/challenge/ZdnwC3PsXPQTdTiKf (1 point)"
   ],
   "metadata": {}
  },
  {
   "cell_type": "code",
   "execution_count": 25,
   "source": [
    "def calculator(num1, operator, num2):\r\n",
    "\tif operator=='+':\r\n",
    "\t\treturn num1+num2\r\n",
    "\tif operator=='-':\r\n",
    "\t\treturn num1-num2\r\n",
    "\tif operator=='*':\r\n",
    "\t\treturn num1*num2\r\n",
    "\tif operator=='/':\r\n",
    "\t\tif num2==0:\r\n",
    "\t\t\treturn \"Can't divide by 0!\"\r\n",
    "\t\telse:\r\n",
    "\t\t\treturn num1/num2"
   ],
   "outputs": [],
   "metadata": {}
  },
  {
   "cell_type": "code",
   "execution_count": 26,
   "source": [
    "Test.assert_equals(calculator(2, '/', 2), 1)\r\n",
    "Test.assert_equals(calculator(10, '-', 7), 3)\r\n",
    "Test.assert_equals(calculator(2, '*', 16), 32)\r\n",
    "Test.assert_equals(calculator(2, '-', 2), 0)\r\n",
    "Test.assert_equals(calculator(15, '+', 26), 41)\r\n",
    "Test.assert_equals(calculator(2, '+', 2), 4)\r\n",
    "Test.assert_equals(calculator(2, \"/\", 0), \"Can't divide by 0!\")"
   ],
   "outputs": [
    {
     "output_type": "stream",
     "name": "stdout",
     "text": [
      "Passed\n",
      "Passed\n",
      "Passed\n",
      "Passed\n",
      "Passed\n",
      "Passed\n",
      "Passed\n"
     ]
    }
   ],
   "metadata": {}
  },
  {
   "cell_type": "markdown",
   "source": [
    "Problem https://edabit.com/challenge/G9QRtAGXb9Cu368Pw (3 points)"
   ],
   "metadata": {}
  },
  {
   "cell_type": "code",
   "execution_count": 27,
   "source": [
    "def combinations(*items):\r\n",
    "\tsum = 1\r\n",
    "\tfor n in items:\r\n",
    "\t\tif n==0:\r\n",
    "\t\t\tcontinue\r\n",
    "\t\tsum = sum * n\r\n",
    "\treturn sum"
   ],
   "outputs": [],
   "metadata": {}
  },
  {
   "cell_type": "code",
   "execution_count": 28,
   "source": [
    "Test.assert_equals(combinations(2), 2)\r\n",
    "Test.assert_equals(combinations(2, 3), 6)\r\n",
    "Test.assert_equals(combinations(3, 5), 15)\r\n",
    "Test.assert_equals(combinations(5, 6, 7), 210)\r\n",
    "Test.assert_equals(combinations(5, 5, 5, 5), 625)\r\n",
    "Test.assert_equals(combinations(3, 6, 9), 162)\r\n",
    "Test.assert_equals(combinations(2, 3, 4, 5, 6, 7, 8, 9, 10), 3628800)\r\n",
    "Test.assert_equals(combinations(4, 5, 6), 120)\r\n",
    "Test.assert_equals(combinations(5, 6, 7, 8), 1680)\r\n",
    "Test.assert_equals(combinations(6, 7, 0), 42)"
   ],
   "outputs": [
    {
     "output_type": "stream",
     "name": "stdout",
     "text": [
      "Passed\n",
      "Passed\n",
      "Passed\n",
      "Passed\n",
      "Passed\n",
      "Passed\n",
      "Passed\n",
      "Passed\n",
      "Passed\n",
      "Passed\n"
     ]
    }
   ],
   "metadata": {}
  },
  {
   "cell_type": "markdown",
   "source": [
    "Problem https://edabit.com/challenge/6nSckbgCx9hjTwmcw (1 point)"
   ],
   "metadata": {}
  },
  {
   "cell_type": "code",
   "execution_count": 29,
   "source": [
    "def time_for_milk_and_cookies(date):\r\n",
    "  if date.month==12 and date.day==24:\r\n",
    "    return True\r\n",
    "  else:\r\n",
    "    return False"
   ],
   "outputs": [],
   "metadata": {}
  },
  {
   "cell_type": "code",
   "execution_count": 30,
   "source": [
    "import datetime\r\n",
    "\r\n",
    "Test.assert_equals(time_for_milk_and_cookies(datetime.date(2013, 12, 24)), True)\r\n",
    "Test.assert_equals(time_for_milk_and_cookies(datetime.date(3000, 12, 24)), True)\r\n",
    "Test.assert_equals(time_for_milk_and_cookies(datetime.date(2013, 1, 23)), False)\r\n",
    "Test.assert_equals(time_for_milk_and_cookies(datetime.date(2010, 11, 2)), False)\r\n",
    "Test.assert_equals(time_for_milk_and_cookies(datetime.date(1980, 9, 24)), False)"
   ],
   "outputs": [
    {
     "output_type": "stream",
     "name": "stdout",
     "text": [
      "Passed\n",
      "Passed\n",
      "Passed\n",
      "Passed\n",
      "Passed\n"
     ]
    }
   ],
   "metadata": {}
  }
 ],
 "metadata": {
  "orig_nbformat": 4,
  "language_info": {
   "name": "python",
   "version": "3.9.7",
   "mimetype": "text/x-python",
   "codemirror_mode": {
    "name": "ipython",
    "version": 3
   },
   "pygments_lexer": "ipython3",
   "nbconvert_exporter": "python",
   "file_extension": ".py"
  },
  "kernelspec": {
   "name": "python3",
   "display_name": "Python 3.9.7 64-bit (windows store)"
  },
  "interpreter": {
   "hash": "66096ffcc460cc3aaab0d184fff9e5481824fbe2722fe70548c75fc9d3244bb3"
  }
 },
 "nbformat": 4,
 "nbformat_minor": 2
}